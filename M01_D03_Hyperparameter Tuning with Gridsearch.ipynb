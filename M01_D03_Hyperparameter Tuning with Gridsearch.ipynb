{
 "cells": [
  {
   "cell_type": "code",
   "execution_count": 2,
   "id": "64f50076",
   "metadata": {},
   "outputs": [],
   "source": [
    "import numpy as np\n",
    "import pandas as pd\n",
    "\n",
    "from sklearn.model_selection import train_test_split\n",
    "from sklearn.metrics import accuracy_score, precision_score, recall_score\n",
    "\n",
    "from sklearn.linear_model import LogisticRegression \n",
    "from sklearn.tree import DecisionTreeClassifier"
   ]
  },
  {
   "cell_type": "code",
   "execution_count": 3,
   "id": "43f4eeaa",
   "metadata": {},
   "outputs": [
    {
     "data": {
      "text/html": [
       "<div>\n",
       "<style scoped>\n",
       "    .dataframe tbody tr th:only-of-type {\n",
       "        vertical-align: middle;\n",
       "    }\n",
       "\n",
       "    .dataframe tbody tr th {\n",
       "        vertical-align: top;\n",
       "    }\n",
       "\n",
       "    .dataframe thead th {\n",
       "        text-align: right;\n",
       "    }\n",
       "</style>\n",
       "<table border=\"1\" class=\"dataframe\">\n",
       "  <thead>\n",
       "    <tr style=\"text-align: right;\">\n",
       "      <th></th>\n",
       "      <th>Survived</th>\n",
       "      <th>Pclass</th>\n",
       "      <th>Sex</th>\n",
       "      <th>Age</th>\n",
       "      <th>SibSp</th>\n",
       "      <th>Parch</th>\n",
       "      <th>Fare</th>\n",
       "      <th>Embarked_C</th>\n",
       "      <th>Embarked_Q</th>\n",
       "      <th>Embarked_S</th>\n",
       "    </tr>\n",
       "  </thead>\n",
       "  <tbody>\n",
       "    <tr>\n",
       "      <th>0</th>\n",
       "      <td>0</td>\n",
       "      <td>3</td>\n",
       "      <td>0</td>\n",
       "      <td>2.0</td>\n",
       "      <td>3</td>\n",
       "      <td>2</td>\n",
       "      <td>27.900</td>\n",
       "      <td>0</td>\n",
       "      <td>0</td>\n",
       "      <td>1</td>\n",
       "    </tr>\n",
       "    <tr>\n",
       "      <th>1</th>\n",
       "      <td>1</td>\n",
       "      <td>2</td>\n",
       "      <td>0</td>\n",
       "      <td>13.0</td>\n",
       "      <td>0</td>\n",
       "      <td>1</td>\n",
       "      <td>19.500</td>\n",
       "      <td>0</td>\n",
       "      <td>0</td>\n",
       "      <td>1</td>\n",
       "    </tr>\n",
       "    <tr>\n",
       "      <th>2</th>\n",
       "      <td>0</td>\n",
       "      <td>3</td>\n",
       "      <td>1</td>\n",
       "      <td>30.0</td>\n",
       "      <td>0</td>\n",
       "      <td>0</td>\n",
       "      <td>7.225</td>\n",
       "      <td>1</td>\n",
       "      <td>0</td>\n",
       "      <td>0</td>\n",
       "    </tr>\n",
       "    <tr>\n",
       "      <th>3</th>\n",
       "      <td>0</td>\n",
       "      <td>3</td>\n",
       "      <td>1</td>\n",
       "      <td>25.0</td>\n",
       "      <td>0</td>\n",
       "      <td>0</td>\n",
       "      <td>7.225</td>\n",
       "      <td>1</td>\n",
       "      <td>0</td>\n",
       "      <td>0</td>\n",
       "    </tr>\n",
       "    <tr>\n",
       "      <th>4</th>\n",
       "      <td>0</td>\n",
       "      <td>3</td>\n",
       "      <td>0</td>\n",
       "      <td>18.0</td>\n",
       "      <td>1</td>\n",
       "      <td>0</td>\n",
       "      <td>17.800</td>\n",
       "      <td>0</td>\n",
       "      <td>0</td>\n",
       "      <td>1</td>\n",
       "    </tr>\n",
       "  </tbody>\n",
       "</table>\n",
       "</div>"
      ],
      "text/plain": [
       "   Survived  Pclass  Sex   Age  SibSp  Parch    Fare  Embarked_C  Embarked_Q  \\\n",
       "0         0       3    0   2.0      3      2  27.900           0           0   \n",
       "1         1       2    0  13.0      0      1  19.500           0           0   \n",
       "2         0       3    1  30.0      0      0   7.225           1           0   \n",
       "3         0       3    1  25.0      0      0   7.225           1           0   \n",
       "4         0       3    0  18.0      1      0  17.800           0           0   \n",
       "\n",
       "   Embarked_S  \n",
       "0           1  \n",
       "1           1  \n",
       "2           0  \n",
       "3           0  \n",
       "4           1  "
      ]
     },
     "execution_count": 3,
     "metadata": {},
     "output_type": "execute_result"
    }
   ],
   "source": [
    "titanic = pd.read_csv('titanic_processed1.csv')\n",
    "titanic.head(5)"
   ]
  },
  {
   "cell_type": "code",
   "execution_count": 4,
   "id": "7c835400",
   "metadata": {},
   "outputs": [],
   "source": [
    "X = titanic.drop('Survived', axis = 1)\n",
    "Y = titanic['Survived']\n",
    "\n",
    "x_train, x_test, y_train, y_test = train_test_split(X, Y, test_size = 0.2)"
   ]
  },
  {
   "cell_type": "code",
   "execution_count": 6,
   "id": "f2458cca",
   "metadata": {},
   "outputs": [],
   "source": [
    "def summarize_classification(y_test, y_pred):\n",
    "    acc = accuracy_score(y_test, y_pred, normalize = True) #normalize=True - accuracy in terms of fraction\n",
    "    num_acc = accuracy_score(y_test, y_pred, normalize = False)#normalize=False - no of accurately predicted label \n",
    "    \n",
    "    prec = precision_score(y_test, y_pred)\n",
    "    recall = recall_score(y_test, y_pred)\n",
    "    \n",
    "    print('Test Data count : ', len(y_test))\n",
    "    print('Accuracy count : ', num_acc)\n",
    "    print('Accuracy Score : ', acc)\n",
    "    print('Precision Score : ', prec)\n",
    "    print('Recall Score : ', recall)\n",
    "    print()"
   ]
  },
  {
   "cell_type": "code",
   "execution_count": 7,
   "id": "d556f7ad",
   "metadata": {},
   "outputs": [
    {
     "data": {
      "text/plain": [
       "{'max_depth': 4}"
      ]
     },
     "execution_count": 7,
     "metadata": {},
     "output_type": "execute_result"
    }
   ],
   "source": [
    "from sklearn.model_selection import GridSearchCV\n",
    "\n",
    "parameters = {'max_depth' : [2, 4, 5, 7, 9, 10]}\n",
    "\n",
    "#cv=3 use 3 fold cross validation to find the best model split the dataset into 3 parts\n",
    "# 2 out of 3 set is use to train the model and third will be use for evaluate the model\n",
    "#Compare  models using default scoring mechanism for the estimator i.e. accuracy\n",
    "\n",
    "grid_search = GridSearchCV(DecisionTreeClassifier(), parameters, cv = 3, return_train_score = True)\n",
    "grid_search.fit(x_train, y_train)\n",
    "\n",
    "grid_search.best_params_\n",
    "\n"
   ]
  },
  {
   "cell_type": "code",
   "execution_count": 8,
   "id": "92618893",
   "metadata": {},
   "outputs": [
    {
     "name": "stdout",
     "output_type": "stream",
     "text": [
      "Parameters :  {'max_depth': 2}\n",
      "Mean Test Score :  0.7978650329527524\n",
      "Rank :  2\n",
      "Parameters :  {'max_depth': 4}\n",
      "Mean Test Score :  0.7996194189176645\n",
      "Rank :  1\n",
      "Parameters :  {'max_depth': 5}\n",
      "Mean Test Score :  0.7855379188712522\n",
      "Rank :  3\n",
      "Parameters :  {'max_depth': 7}\n",
      "Mean Test Score :  0.7714749837556854\n",
      "Rank :  4\n",
      "Parameters :  {'max_depth': 9}\n",
      "Mean Test Score :  0.7451684767474241\n",
      "Rank :  5\n",
      "Parameters :  {'max_depth': 10}\n",
      "Mean Test Score :  0.7328506451313469\n",
      "Rank :  6\n"
     ]
    }
   ],
   "source": [
    "#Lets compare for all of the oter models performance\n",
    "\n",
    "for i in range(6):\n",
    "    print('Parameters : ', grid_search.cv_results_['params'][i])\n",
    "    \n",
    "    print('Mean Test Score : ', grid_search.cv_results_['mean_test_score'][i])\n",
    "    \n",
    "    print('Rank : ', grid_search.cv_results_['rank_test_score'][i])"
   ]
  },
  {
   "cell_type": "code",
   "execution_count": 9,
   "id": "d9de2bf2",
   "metadata": {},
   "outputs": [
    {
     "data": {
      "text/plain": [
       "{'C': 1, 'penalty': 'l2'}"
      ]
     },
     "execution_count": 9,
     "metadata": {},
     "output_type": "execute_result"
    }
   ],
   "source": [
    "\n",
    "\n",
    "parameters = {'penalty' : ['l1', 'l2'],\n",
    "              'C' : [0.1, 0.4, 0.8, 1, 2, 5]}\n",
    "\n",
    "\n",
    "grid_search = GridSearchCV(LogisticRegression(solver='liblinear'), parameters, cv = 3, return_train_score = True)\n",
    "grid_search.fit(x_train, y_train)\n",
    "\n",
    "grid_search.best_params_\n"
   ]
  },
  {
   "cell_type": "code",
   "execution_count": 15,
   "id": "95c1cd3d",
   "metadata": {},
   "outputs": [
    {
     "name": "stdout",
     "output_type": "stream",
     "text": [
      "Parameters :  {'C': 0.1, 'penalty': 'l1'}\n",
      "Mean Test Score :  0.7575141557597697\n",
      "Rank :  12\n",
      "Parameters :  {'C': 0.1, 'penalty': 'l2'}\n",
      "Mean Test Score :  0.775085862805161\n",
      "Rank :  11\n",
      "Parameters :  {'C': 0.4, 'penalty': 'l1'}\n",
      "Mean Test Score :  0.7803583031653206\n",
      "Rank :  8\n",
      "Parameters :  {'C': 0.4, 'penalty': 'l2'}\n",
      "Mean Test Score :  0.780339738234475\n",
      "Rank :  10\n",
      "Parameters :  {'C': 0.8, 'penalty': 'l1'}\n",
      "Mean Test Score :  0.782112689130233\n",
      "Rank :  5\n",
      "Parameters :  {'C': 0.8, 'penalty': 'l2'}\n",
      "Mean Test Score :  0.7838577926297225\n",
      "Rank :  2\n",
      "Parameters :  {'C': 1, 'penalty': 'l1'}\n",
      "Mean Test Score :  0.780349020699898\n",
      "Rank :  9\n",
      "Parameters :  {'C': 1, 'penalty': 'l2'}\n",
      "Mean Test Score :  0.787366564559547\n",
      "Rank :  1\n",
      "Parameters :  {'C': 2, 'penalty': 'l1'}\n",
      "Mean Test Score :  0.7838485101642996\n",
      "Rank :  3\n",
      "Parameters :  {'C': 2, 'penalty': 'l2'}\n",
      "Mean Test Score :  0.7821034066648102\n",
      "Rank :  6\n",
      "Parameters :  {'C': 5, 'penalty': 'l1'}\n",
      "Mean Test Score :  0.7838485101642996\n",
      "Rank :  3\n",
      "Parameters :  {'C': 5, 'penalty': 'l2'}\n",
      "Mean Test Score :  0.7820941241993874\n",
      "Rank :  7\n"
     ]
    }
   ],
   "source": [
    "#Lets compare for all of the oter models performance\n",
    "\n",
    "for i in range(12):\n",
    "    print('Parameters : ', grid_search.cv_results_['params'][i])\n",
    "    \n",
    "    print('Mean Test Score : ', grid_search.cv_results_['mean_test_score'][i])\n",
    "    \n",
    "    print('Rank : ', grid_search.cv_results_['rank_test_score'][i])"
   ]
  },
  {
   "cell_type": "code",
   "execution_count": 17,
   "id": "a856e7f7",
   "metadata": {},
   "outputs": [],
   "source": [
    "logistic_model = LogisticRegression(solver='liblinear', \\\n",
    "                                   penalty = grid_search.best_params_['penalty'],\n",
    "                                   C = grid_search.best_params_['C']).fit(x_train, y_train)"
   ]
  },
  {
   "cell_type": "code",
   "execution_count": 19,
   "id": "9fbcc33c",
   "metadata": {},
   "outputs": [],
   "source": [
    "y_pred = logistic_model.predict(x_test)"
   ]
  },
  {
   "cell_type": "code",
   "execution_count": 21,
   "id": "5c034860",
   "metadata": {},
   "outputs": [
    {
     "name": "stdout",
     "output_type": "stream",
     "text": [
      "Test Data count :  143\n",
      "Accuracy count :  117\n",
      "Accuracy Score :  0.8181818181818182\n",
      "Precision Score :  0.8076923076923077\n",
      "Recall Score :  0.7241379310344828\n",
      "\n"
     ]
    }
   ],
   "source": [
    "summarize_classification(y_test, y_pred)"
   ]
  },
  {
   "cell_type": "code",
   "execution_count": null,
   "id": "e32fe379",
   "metadata": {},
   "outputs": [],
   "source": []
  }
 ],
 "metadata": {
  "kernelspec": {
   "display_name": "Python 3",
   "language": "python",
   "name": "python3"
  },
  "language_info": {
   "codemirror_mode": {
    "name": "ipython",
    "version": 3
   },
   "file_extension": ".py",
   "mimetype": "text/x-python",
   "name": "python",
   "nbconvert_exporter": "python",
   "pygments_lexer": "ipython3",
   "version": "3.8.10"
  }
 },
 "nbformat": 4,
 "nbformat_minor": 5
}
